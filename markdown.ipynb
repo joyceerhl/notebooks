{
 "cells": [
  {
   "cell_type": "markdown",
   "metadata": {},
   "source": [
    "https://github.com/microsoft/vscode-jupyter/issues/1216\r\n",
    "\r\n",
    "$$n = (\\frac{1.96 \\sigma_l}{d})^2$$"
   ]
  },
  {
   "cell_type": "markdown",
   "metadata": {},
   "source": [
    "https://github.com/microsoft/vscode-jupyter/issues/1112\r\n",
    "\r\n",
    "\r\n",
    "$x_{i}$"
   ]
  },
  {
   "cell_type": "markdown",
   "metadata": {},
   "source": [
    "https://github.com/microsoft/vscode-jupyter/issues/1112#issuecomment-727517085\r\n",
    "\r\n",
    "$\\sum_{\\lambda}$"
   ]
  },
  {
   "cell_type": "markdown",
   "metadata": {},
   "source": [
    "https://github.com/microsoft/vscode-jupyter/issues/3986\r\n",
    "\r\n",
    "\r\n",
    "$$ e^{i\\pi} = -1 $$"
   ]
  },
  {
   "cell_type": "markdown",
   "metadata": {},
   "source": [
    "https://github.com/microsoft/vscode-jupyter/issues/4478\r\n",
    "\r\n",
    "$e^+e^-\\rightarrow q \\bar{q}$\r\n",
    "$$ e^+e^- \\rightarrow q \\bar{q} $$"
   ]
  },
  {
   "cell_type": "markdown",
   "metadata": {},
   "source": [
    "https://github.com/microsoft/vscode-jupyter/issues/4524\r\n",
    "\r\n",
    "\r\n",
    "| $p$ | $q$ | $(p \\lor q)$ | $(q \\to p)$ | $(p \\lor q) \\to (q \\to p)$ |\r\n",
    "|:---:|:---:|:-----------: |:----------: |:-------------------------: |\r\n",
    "| $V$ | $V$ | $V$          | $V$         | $V$                        |\r\n",
    "| $V$ | $F$ | $V$          | $V$         | $V$                        |\r\n",
    "| $F$ | $V$ | $V$          | $F$         | $F$                        |\r\n",
    "| $F$ | $F$ | $F$          | $V$         | $V$                        |\r\n"
   ]
  },
  {
   "cell_type": "markdown",
   "metadata": {},
   "source": [
    "https://github.com/microsoft/vscode-jupyter/issues/4537 Bug--whitespace in latex\r\n",
    "\r\n",
    "\r\n",
    "$ f(x) = 42$\r\n",
    "\r\n",
    "$$ e^x $$"
   ]
  },
  {
   "cell_type": "markdown",
   "metadata": {},
   "source": [
    "https://github.com/microsoft/vscode-jupyter/issues/4877\r\n",
    "\r\n",
    "$e^2$"
   ]
  },
  {
   "cell_type": "markdown",
   "metadata": {},
   "source": [
    "https://github.com/microsoft/vscode/issues/118561\r\n",
    "\r\n",
    "$x^2$\r\n"
   ]
  },
  {
   "cell_type": "markdown",
   "metadata": {},
   "source": [
    "https://github.com/microsoft/vscode/issues/119195\r\n",
    "\r\n",
    "\r\n",
    "To insert a mathematical formula we use the dollar symbol $, as follows:\r\n",
    "\r\n",
    "Euler's identity: $ e^{i \\pi} + 1 = 0 $\r\n",
    "\r\n",
    "To isolate and center the formulas and enter in math display mode, we use 2 dollars symbol:\r\n",
    "\r\n",
    "$$\r\n",
    "...\r\n",
    "$$\r\n",
    "\r\n",
    "Euler's identity: $$ e^{i \\pi} + 1 = 0 $$"
   ]
  },
  {
   "cell_type": "markdown",
   "metadata": {},
   "source": [
    "https://github.com/microsoft/vscode-jupyter/issues/4231\r\n",
    "\r\n",
    "$$ \\begin{eqnarray}\r\n",
    "\\frac{dx}{dt} &=& v, \\text{ and} \\\\\\\r\n",
    "\\frac{dv}{dt} &=& a,\r\n",
    "\\end{eqnarray} $$\r\n",
    "\r\n",
    "\r\n",
    "$$ \\begin{eqnarray} \\frac{dx}{dt} &=& v, \\text{ and} \\\\\\ \\frac{dv}{dt} &=& a, \\end{eqnarray} $$"
   ]
  },
  {
   "cell_type": "markdown",
   "metadata": {},
   "source": [
    "https://github.com/microsoft/vscode-jupyter/issues/1328\r\n",
    "\r\n",
    "\r\n",
    "<html>\r\n",
    "\t<body>\r\n",
    "\t\t<ol>\r\n",
    "\t\t\t<li> Using $X=(X_1, X_2, \\ldots)$ as above. </li>\r\n",
    "\t\t</ol>\r\n",
    "\t</body>\r\n",
    "</html>"
   ]
  },
  {
   "cell_type": "markdown",
   "metadata": {},
   "source": [
    "https://github.com/microsoft/vscode-jupyter/issues/1434\r\n",
    "\r\n",
    "$$ \\text{For } x \\in \\mathbb{R}^n \\text{, } sigmoid(x) = sigmoid\\begin{pmatrix}\r\n",
    "x_1 \\\r\n",
    "x_2 \\\r\n",
    "... \\\r\n",
    "x_n \\\r\n",
    "\\end{pmatrix} = \\begin{pmatrix}\r\n",
    "\\frac{1}{1+e^{-x_1}} \\\r\n",
    "\\frac{1}{1+e^{-x_2}} \\\r\n",
    "... \\\r\n",
    "\\frac{1}{1+e^{-x_n}} \\\r\n",
    "\\end{pmatrix}\\tag{1} $$\r\n",
    "\r\n",
    "\r\n",
    "$$ \\text{For } x \\in \\mathbb{R}^n \\text{, } sigmoid(x) = sigmoid\\begin{pmatrix} x_1 \\ x_2 \\ ... \\ x_n \\\\end{pmatrix} = \\begin{pmatrix} \\frac{1}{1+e^{-x_1}} \\ \\frac{1}{1+e^{-x_2}} \\ ... \\ \\frac{1}{1+e^{-x_n}} \\\\end{pmatrix}\\tag{1} $$"
   ]
  }
 ],
 "metadata": {
  "kernelspec": {
   "display_name": "Python 3.8.8 64-bit",
   "name": "python388jvsc74a57bd060037044f5f92c2dafe0b9a6c7494b212abd44c28e1761e0c3087384f4a15460"
  },
  "language_info": {
   "codemirror_mode": {
    "name": "ipython",
    "version": 3
   },
   "file_extension": ".py",
   "mimetype": "text/x-python",
   "name": "python",
   "nbconvert_exporter": "python",
   "pygments_lexer": "ipython3",
   "version": "3.8.8"
  },
  "metadata": {
   "interpreter": {
    "hash": "60037044f5f92c2dafe0b9a6c7494b212abd44c28e1761e0c3087384f4a15460"
   }
  },
  "orig_nbformat": 2
 },
 "nbformat": 4,
 "nbformat_minor": 2
}